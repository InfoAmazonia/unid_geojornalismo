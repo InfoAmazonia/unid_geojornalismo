{
 "cells": [
  {
   "cell_type": "code",
   "execution_count": 3,
   "id": "b9c1f9e6-0d6e-4c5b-af4b-d903365f8a75",
   "metadata": {},
   "outputs": [
    {
     "name": "stdout",
     "output_type": "stream",
     "text": [
      "Arquivo GeoJSON unificado salvo em: area-rio-acre-unificado.geojson\n"
     ]
    }
   ],
   "source": [
    "import os\n",
    "import json\n",
    "import geopandas as gpd\n",
    "import pandas as pd\n",
    "\n",
    "def merge_geojson_files(input_directory, output_file):\n",
    "    \"\"\"\n",
    "    Mergeia todos os arquivos GeoJSON em um único arquivo, preservando a localização geográfica.\n",
    "    \n",
    "    Parameters:\n",
    "    input_directory (str): O diretório que contém os arquivos GeoJSON\n",
    "    output_file (str): O caminho e nome do arquivo de saída unificado\n",
    "    \"\"\"\n",
    "    # Obter a lista de arquivos GeoJSON no diretório\n",
    "    geojson_files = [f for f in os.listdir(input_directory) if f.endswith('.geojson')]\n",
    "    \n",
    "    # Inicializar uma lista para armazenar os GeoDataFrames\n",
    "    all_gdfs = []\n",
    "    \n",
    "    # Iterar sobre os arquivos e adicionar os GeoDataFrames à lista\n",
    "    for file_name in geojson_files:\n",
    "        file_path = os.path.join(input_directory, file_name)\n",
    "        gdf = gpd.read_file(file_path)\n",
    "        all_gdfs.append(gdf)\n",
    "    \n",
    "    # Concatenar todos os GeoDataFrames em um único GeoDataFrame\n",
    "    merged_gdf = gpd.GeoDataFrame(pd.concat(all_gdfs, ignore_index=True))\n",
    "    \n",
    "    # Preservar a localização geográfica original\n",
    "    merged_gdf.crs = all_gdfs[0].crs\n",
    "    \n",
    "    # Salvar o GeoDataFrame unificado como um arquivo GeoJSON\n",
    "    merged_gdf.to_file(output_file, driver='GeoJSON')\n",
    "    \n",
    "    print(f\"Arquivo GeoJSON unificado salvo em: {output_file}\")\n",
    "\n",
    "\n",
    "\n",
    "# Exemplo de uso\n",
    "merge_geojson_files('Rio Acre Area/', 'area-rio-acre-unificado.geojson')"
   ]
  },
  {
   "cell_type": "code",
   "execution_count": null,
   "id": "cae7891e-3c9b-4141-a066-274585bd470b",
   "metadata": {},
   "outputs": [],
   "source": []
  }
 ],
 "metadata": {
  "kernelspec": {
   "display_name": "Python 3 (ipykernel)",
   "language": "python",
   "name": "python3"
  },
  "language_info": {
   "codemirror_mode": {
    "name": "ipython",
    "version": 3
   },
   "file_extension": ".py",
   "mimetype": "text/x-python",
   "name": "python",
   "nbconvert_exporter": "python",
   "pygments_lexer": "ipython3",
   "version": "3.12.4"
  }
 },
 "nbformat": 4,
 "nbformat_minor": 5
}
